{
 "cells": [
  {
   "cell_type": "markdown",
   "metadata": {},
   "source": [
    "## 1. Setup"
   ]
  },
  {
   "cell_type": "code",
   "execution_count": 10,
   "metadata": {
    "tags": [],
    "trusted": true,
    "vscode": {
     "languageId": "r"
    }
   },
   "outputs": [
    {
     "name": "stderr",
     "output_type": "stream",
     "text": [
      "\n",
      "Attaching package: ‘dplyr’\n",
      "\n",
      "\n",
      "The following objects are masked from ‘package:stats’:\n",
      "\n",
      "    filter, lag\n",
      "\n",
      "\n",
      "The following objects are masked from ‘package:base’:\n",
      "\n",
      "    intersect, setdiff, setequal, union\n",
      "\n",
      "\n"
     ]
    }
   ],
   "source": [
    "library(dplyr)"
   ]
  },
  {
   "cell_type": "markdown",
   "metadata": {},
   "source": [
    "## 2. Load Data"
   ]
  },
  {
   "cell_type": "markdown",
   "metadata": {
    "tags": []
   },
   "source": [
    "### 2.1 Load data into memory"
   ]
  },
  {
   "cell_type": "code",
   "execution_count": 3,
   "metadata": {
    "tags": [],
    "trusted": true,
    "vscode": {
     "languageId": "r"
    }
   },
   "outputs": [
    {
     "name": "stdout",
     "output_type": "stream",
     "text": [
      "Loaded data for split 1 with dimensions: 258966 677 \n",
      "Loaded data for split 2 with dimensions: 258966 677 \n",
      "Loaded data for split 3 with dimensions: 258966 677 \n",
      "Loaded data for split 4 with dimensions: 258966 677 \n",
      "Loaded data for split 5 with dimensions: 258966 677 \n",
      "All splits loaded into memory.\n"
     ]
    }
   ],
   "source": [
    "n_splits <- 5\n",
    "\n",
    "split_data_list <- list()\n",
    "\n",
    "for (cv in seq_len(n_splits)) {\n",
    "  filename <- paste0(\"imputed_data_split_\", cv, \"_22112024.tsv\")\n",
    "  download_cmd <- paste0(\"dx download Benchmarking/Imputed/\", filename, \" -o \", filename)\n",
    "  system(download_cmd, intern = TRUE)\n",
    "  df <- read.table(filename, sep = \"\\t\", header = TRUE, stringsAsFactors = FALSE)\n",
    "  cat(\"Loaded data for split\", cv, \"with dimensions:\", dim(df), \"\\n\")\n",
    "  split_data_list[[cv]] <- df\n",
    "}\n",
    "\n",
    "cat(\"All splits loaded into memory.\\n\")\n"
   ]
  },
  {
   "cell_type": "markdown",
   "metadata": {},
   "source": [
    "### 2.2 Load mapping file for PANEL"
   ]
  },
  {
   "cell_type": "code",
   "execution_count": 4,
   "metadata": {
    "tags": [],
    "trusted": true,
    "vscode": {
     "languageId": "r"
    }
   },
   "outputs": [
    {
     "data": {
      "text/plain": [
       "\n",
       "Continuous     Factor \n",
       "        32         13 "
      ]
     },
     "metadata": {},
     "output_type": "display_data"
    },
    {
     "data": {
      "text/plain": [
       "\n",
       "TRUE \n",
       "  45 "
      ]
     },
     "metadata": {},
     "output_type": "display_data"
    }
   ],
   "source": [
    "system(\"dx download 'UKBRISK_Processed/Clinicalrisk_mapping_v2.tsv'\")\n",
    "\n",
    "mapping_clinicalrisk <- read.delim(\"Clinicalrisk_mapping_v2.tsv\", sep = \"\\t\")\n",
    "mapping_clinicalrisk <- mapping_clinicalrisk[-1,]\n",
    "mapping_clinicalrisk$Column.name <- paste0(\"clinicalrisk_\",mapping_clinicalrisk$Column.name)\n",
    "table(as.factor(mapping_clinicalrisk$Data.type))\n",
    "mapping_clinicalrisk[mapping_clinicalrisk$Column.name == \"clinicalrisk_Systolic.blood.pressure\",\"Column.name\"] = 'clinicalrisk_SBP_mean'\n",
    "table(names(df)[grep(\"^clinicalrisk_\", names(df))] %in% mapping_clinicalrisk$Column.name)"
   ]
  },
  {
   "cell_type": "markdown",
   "metadata": {},
   "source": [
    "### 2.3 Adjusting data types and performing some sanity checks"
   ]
  },
  {
   "cell_type": "code",
   "execution_count": 13,
   "metadata": {
    "tags": [],
    "trusted": true,
    "vscode": {
     "languageId": "r"
    }
   },
   "outputs": [
    {
     "name": "stdout",
     "output_type": "stream",
     "text": [
      "Clinicalrisk transformations completed for split 1 \n",
      "No factor columns with more than 2 levels in split 1 \n",
      "No negative columns found in split 1 \n",
      "Clinicalrisk transformations completed for split 2 \n",
      "No factor columns with more than 2 levels in split 2 \n",
      "No negative columns found in split 2 \n",
      "Clinicalrisk transformations completed for split 3 \n",
      "No factor columns with more than 2 levels in split 3 \n",
      "No negative columns found in split 3 \n",
      "Clinicalrisk transformations completed for split 4 \n",
      "No factor columns with more than 2 levels in split 4 \n",
      "No negative columns found in split 4 \n",
      "Clinicalrisk transformations completed for split 5 \n",
      "No factor columns with more than 2 levels in split 5 \n",
      "No negative columns found in split 5 \n",
      "Data-type transformations for clinicalrisk, factor checks, and negative value checks completed for all splits.\n"
     ]
    }
   ],
   "source": [
    "processed_data_list <- list()\n",
    "\n",
    "for (cv in seq_len(n_splits)) {\n",
    "  df <- split_data_list[[cv]]\n",
    "  \n",
    "  #apply clinicalrisk transformations based on mapping_clinicalrisk\n",
    "  for (i in 1:nrow(mapping_clinicalrisk)) {\n",
    "    column_name <- mapping_clinicalrisk$Column.name[i]\n",
    "    data_type <- mapping_clinicalrisk$Data.type[i]\n",
    "\n",
    "    if (column_name %in% names(df)) {\n",
    "      if (data_type == \"Continuous\") {\n",
    "        df[[column_name]] <- as.numeric(df[[column_name]])\n",
    "      } else {\n",
    "        df[[column_name]] <- as.factor(df[[column_name]])\n",
    "      }\n",
    "    }\n",
    "  }\n",
    "\n",
    "  cat(\"Clinicalrisk transformations completed for split\", cv, \"\\n\")\n",
    "  \n",
    "  #check no factor cols with > 2 levels\n",
    "  factor_cols <- names(df)[sapply(df, is.factor)]\n",
    "  multi_level_factors <- factor_cols[sapply(df[factor_cols], function(col) nlevels(col) > 2)]\n",
    "  \n",
    "  if (length(multi_level_factors) > 0) {\n",
    "    cat(\"Factor columns with more than 2 levels in split\", cv, \":\\n\")\n",
    "    print(multi_level_factors)\n",
    "  } else {\n",
    "    cat(\"No factor columns with more than 2 levels in split\", cv, \"\\n\")\n",
    "  }\n",
    "  \n",
    "  #check no negative values in continous cols\n",
    "  cols_to_check <- grep(\"^metabolomics_|ts_|clinicalrisk_\", names(df), value = TRUE)\n",
    "  cols_to_check <- cols_to_check[sapply(df[cols_to_check], is.numeric)]  # Keep only numeric columns\n",
    "\n",
    "  if (length(cols_to_check) > 0) {\n",
    "    neg_cols <- sapply(df[, cols_to_check, drop = FALSE], function(col) any(col < 0, na.rm = TRUE))\n",
    "    \n",
    "    if (any(neg_cols)) {\n",
    "      cat(\"Split\", cv, \"contains negative values in columns: \", paste(names(df)[cols_to_check][neg_cols], collapse = \", \"), \"\\n\")\n",
    "    } else {\n",
    "      cat(\"No negative columns found in split\", cv, \"\\n\")\n",
    "    }\n",
    "  } else {\n",
    "    cat(\"No columns matched for checking negatives in split\", cv, \"\\n\")\n",
    "  }\n",
    "  \n",
    "  #store back\n",
    "  processed_data_list[[cv]] <- df\n",
    "}\n",
    "\n",
    "cat(\"Data-type transformations for clinicalrisk, factor checks, and negative value checks completed for all splits.\\n\")\n"
   ]
  },
  {
   "cell_type": "markdown",
   "metadata": {},
   "source": [
    "## 3. Replace 0s with 1/10th of median (assume detection threshold)"
   ]
  },
  {
   "cell_type": "code",
   "execution_count": 14,
   "metadata": {
    "tags": [],
    "trusted": true,
    "vscode": {
     "languageId": "r"
    }
   },
   "outputs": [
    {
     "name": "stdout",
     "output_type": "stream",
     "text": [
      "Zero values replaced with 1/10th of median for continuous columns in split 1 \n",
      "Zero values replaced with 1/10th of median for continuous columns in split 2 \n",
      "Zero values replaced with 1/10th of median for continuous columns in split 3 \n",
      "Zero values replaced with 1/10th of median for continuous columns in split 4 \n",
      "Zero values replaced with 1/10th of median for continuous columns in split 5 \n",
      "Transformation of continuous columns completed for all splits.\n"
     ]
    }
   ],
   "source": [
    "transformed_data_list <- list()\n",
    "\n",
    "for (cv in seq_len(n_splits)) {\n",
    "  df <- processed_data_list[[cv]]  \n",
    "\n",
    "  cols_to_transform <- names(df)[grepl(\"^(metabolomics_|clinicalrisk_)\", names(df)) & \n",
    "                                   sapply(df, function(x) class(x) %in% c('numeric', 'integer'))]\n",
    "\n",
    "  #replace 0  with median/10 \n",
    "  df[cols_to_transform] <- lapply(df[cols_to_transform], function(x) {\n",
    "    median_val <- median(x[x != 0], na.rm = TRUE) / 10\n",
    "    x[x == 0] <- median_val\n",
    "    return(x)\n",
    "  })\n",
    "  \n",
    "  cat(\"Zero values replaced with 1/10th of median for continuous columns in split\", cv, \"\\n\")\n",
    "  \n",
    "  #store back\n",
    "  transformed_data_list[[cv]] <- df\n",
    "}\n",
    "\n",
    "cat(\"Transformation of continuous columns completed for all splits.\\n\")\n"
   ]
  },
  {
   "cell_type": "markdown",
   "metadata": {},
   "source": [
    "## 4. Log-Scaling, removal of outlier blood measurements > 5 SD"
   ]
  },
  {
   "cell_type": "code",
   "execution_count": 15,
   "metadata": {
    "tags": [],
    "trusted": true,
    "vscode": {
     "languageId": "r"
    }
   },
   "outputs": [
    {
     "name": "stdout",
     "output_type": "stream",
     "text": [
      "Log transformation completed for split 1 \n",
      "Centering and scaling completed for split 1 \n"
     ]
    },
    {
     "name": "stderr",
     "output_type": "stream",
     "text": [
      "Warning message:\n",
      "“\u001b[1m\u001b[22mUsing `across()` in `filter()` was deprecated in dplyr 1.0.8.\n",
      "\u001b[36mℹ\u001b[39m Please use `if_any()` or `if_all()` instead.”\n"
     ]
    },
    {
     "name": "stdout",
     "output_type": "stream",
     "text": [
      "Outlier filtering completed for split 1  - rows removed due to outliers: 17799 \n",
      "No NaN values found in split 1 \n",
      "No -Inf values found in split 1 \n",
      "Log transformation completed for split 2 \n",
      "Centering and scaling completed for split 2 \n"
     ]
    },
    {
     "name": "stderr",
     "output_type": "stream",
     "text": [
      "Warning message:\n",
      "“\u001b[1m\u001b[22mUsing `across()` in `filter()` was deprecated in dplyr 1.0.8.\n",
      "\u001b[36mℹ\u001b[39m Please use `if_any()` or `if_all()` instead.”\n"
     ]
    },
    {
     "name": "stdout",
     "output_type": "stream",
     "text": [
      "Outlier filtering completed for split 2  - rows removed due to outliers: 17810 \n",
      "No NaN values found in split 2 \n",
      "No -Inf values found in split 2 \n",
      "Log transformation completed for split 3 \n",
      "Centering and scaling completed for split 3 \n"
     ]
    },
    {
     "name": "stderr",
     "output_type": "stream",
     "text": [
      "Warning message:\n",
      "“\u001b[1m\u001b[22mUsing `across()` in `filter()` was deprecated in dplyr 1.0.8.\n",
      "\u001b[36mℹ\u001b[39m Please use `if_any()` or `if_all()` instead.”\n"
     ]
    },
    {
     "name": "stdout",
     "output_type": "stream",
     "text": [
      "Outlier filtering completed for split 3  - rows removed due to outliers: 17762 \n",
      "No NaN values found in split 3 \n",
      "No -Inf values found in split 3 \n",
      "Log transformation completed for split 4 \n",
      "Centering and scaling completed for split 4 \n"
     ]
    },
    {
     "name": "stderr",
     "output_type": "stream",
     "text": [
      "Warning message:\n",
      "“\u001b[1m\u001b[22mUsing `across()` in `filter()` was deprecated in dplyr 1.0.8.\n",
      "\u001b[36mℹ\u001b[39m Please use `if_any()` or `if_all()` instead.”\n"
     ]
    },
    {
     "name": "stdout",
     "output_type": "stream",
     "text": [
      "Outlier filtering completed for split 4  - rows removed due to outliers: 17844 \n",
      "No NaN values found in split 4 \n",
      "No -Inf values found in split 4 \n",
      "Log transformation completed for split 5 \n",
      "Centering and scaling completed for split 5 \n"
     ]
    },
    {
     "name": "stderr",
     "output_type": "stream",
     "text": [
      "Warning message:\n",
      "“\u001b[1m\u001b[22mUsing `across()` in `filter()` was deprecated in dplyr 1.0.8.\n",
      "\u001b[36mℹ\u001b[39m Please use `if_any()` or `if_all()` instead.”\n"
     ]
    },
    {
     "name": "stdout",
     "output_type": "stream",
     "text": [
      "Outlier filtering completed for split 5  - rows removed due to outliers: 17799 \n",
      "No NaN values found in split 5 \n",
      "No -Inf values found in split 5 \n",
      "Log scaling, normalization, outlier filtering, and value checks completed for all splits.\n"
     ]
    }
   ],
   "source": [
    "for (cv in seq_len(n_splits)) {\n",
    "  df <- transformed_data_list[[cv]]  # Assuming `transformed_data_list` contains data after zero replacement\n",
    "\n",
    "  #log\n",
    "  df <- df %>%\n",
    "    mutate(across(all_of(cols_to_transform), log))\n",
    "\n",
    "  cat(\"Log transformation completed for split\", cv, \"\\n\")\n",
    "  \n",
    "  #means and sd from train split\n",
    "  means <- sapply(df[df$testtrain == 'train', cols_to_transform], mean, na.rm = TRUE)\n",
    "  sds <- sapply(df[df$testtrain == 'train', cols_to_transform], sd, na.rm = TRUE)\n",
    "  \n",
    "  #center-scale\n",
    "  center_scale <- function(x, mean, sd) {\n",
    "    (x - mean) / sd\n",
    "  }\n",
    "  df[, cols_to_transform] <- mapply(center_scale, \n",
    "                                    df[, cols_to_transform], \n",
    "                                    means, \n",
    "                                    sds, \n",
    "                                    SIMPLIFY = FALSE)\n",
    "  \n",
    "  cat(\"Centering and scaling completed for split\", cv, \"\\n\")\n",
    "\n",
    "  ##filter outliers from blood measurements (> 5 SD)\n",
    "  bloods_cr <- mapping_clinicalrisk$Column.name[22:44]\n",
    "  initial_row_count <- nrow(df)\n",
    "  df <- df %>%\n",
    "    filter(across(c(starts_with(\"metabolomics_\"), any_of(bloods_cr)), ~ abs(.) <= 5 | is.na(.)))\n",
    "  final_row_count <- nrow(df)\n",
    "  rows_removed <- initial_row_count - final_row_count\n",
    "  cat(\"Outlier filtering completed for split\", cv, \" - rows removed due to outliers:\", rows_removed, \"\\n\")\n",
    "\n",
    "  #check for NaN or -Inf\n",
    "  nan_exists <- suppressWarnings(sapply(df, function(col) any(is.nan(col))))\n",
    "  inf_exists <- suppressWarnings(sapply(df, function(col) any(is.infinite(col) & col < 0)))\n",
    "  \n",
    "  if (any(nan_exists)) {\n",
    "    cat(\"Split\", cv, \"contains NaN values in columns:\", paste(names(df)[nan_exists], collapse = \", \"), \"\\n\")\n",
    "  } else {\n",
    "    cat(\"No NaN values found in split\", cv, \"\\n\")\n",
    "  }\n",
    "  \n",
    "  if (any(inf_exists)) {\n",
    "    cat(\"Split\", cv, \"contains -Inf values in columns:\", paste(names(df)[inf_exists], collapse = \", \"), \"\\n\")\n",
    "  } else {\n",
    "    cat(\"No -Inf values found in split\", cv, \"\\n\")\n",
    "  }\n",
    "  \n",
    "  #store back\n",
    "  transformed_data_list[[cv]] <- df\n",
    "}\n",
    "\n",
    "cat(\"Log scaling, normalization, outlier filtering, and value checks completed for all splits.\\n\")\n"
   ]
  },
  {
   "cell_type": "markdown",
   "metadata": {},
   "source": [
    "## 5. Save data"
   ]
  },
  {
   "cell_type": "code",
   "execution_count": 16,
   "metadata": {
    "tags": [],
    "trusted": true,
    "vscode": {
     "languageId": "r"
    }
   },
   "outputs": [
    {
     "name": "stdout",
     "output_type": "stream",
     "text": [
      "Data saved locally for split 1 with filename: Processed_final_split_1_01122024.tsv \n",
      "Data uploaded for split 1 to the cloud at Benchmarking/Processed/ Processed_final_split_1_01122024.tsv \n",
      "Data saved locally for split 2 with filename: Processed_final_split_2_01122024.tsv \n",
      "Data uploaded for split 2 to the cloud at Benchmarking/Processed/ Processed_final_split_2_01122024.tsv \n",
      "Data saved locally for split 3 with filename: Processed_final_split_3_01122024.tsv \n",
      "Data uploaded for split 3 to the cloud at Benchmarking/Processed/ Processed_final_split_3_01122024.tsv \n",
      "Data saved locally for split 4 with filename: Processed_final_split_4_01122024.tsv \n",
      "Data uploaded for split 4 to the cloud at Benchmarking/Processed/ Processed_final_split_4_01122024.tsv \n",
      "Data saved locally for split 5 with filename: Processed_final_split_5_01122024.tsv \n",
      "Data uploaded for split 5 to the cloud at Benchmarking/Processed/ Processed_final_split_5_01122024.tsv \n",
      "All splits saved and uploaded successfully.\n"
     ]
    }
   ],
   "source": [
    "for (cv in seq_len(n_splits)) {\n",
    "  df <- transformed_data_list[[cv]] \n",
    "  filename_save <- paste0(\"Processed_final_split_\", cv, \"_01122024.tsv\")\n",
    "  write.table(df, file = filename_save, sep = \"\\t\", row.names = FALSE, quote = FALSE)\n",
    "  cat(\"Data saved locally for split\", cv, \"with filename:\", filename_save, \"\\n\")\n",
    "  \n",
    "  upl_cmd <- paste0(\"dx upload \", filename_save, \" --path Benchmarking/Processed/\", filename_save)\n",
    "  system(upl_cmd, intern = TRUE)\n",
    "  \n",
    "  cat(\"Data uploaded for split\", cv, \"to the cloud at Benchmarking/Processed/\", filename_save, \"\\n\")\n",
    "}\n",
    "\n",
    "cat(\"All splits saved and uploaded successfully.\\n\")\n"
   ]
  },
  {
   "cell_type": "code",
   "execution_count": null,
   "metadata": {
    "vscode": {
     "languageId": "r"
    }
   },
   "outputs": [],
   "source": []
  },
  {
   "cell_type": "code",
   "execution_count": null,
   "metadata": {
    "vscode": {
     "languageId": "r"
    }
   },
   "outputs": [],
   "source": []
  },
  {
   "cell_type": "code",
   "execution_count": null,
   "metadata": {
    "vscode": {
     "languageId": "r"
    }
   },
   "outputs": [],
   "source": []
  },
  {
   "cell_type": "code",
   "execution_count": null,
   "metadata": {
    "vscode": {
     "languageId": "r"
    }
   },
   "outputs": [],
   "source": []
  },
  {
   "cell_type": "code",
   "execution_count": null,
   "metadata": {
    "vscode": {
     "languageId": "r"
    }
   },
   "outputs": [],
   "source": []
  },
  {
   "cell_type": "code",
   "execution_count": null,
   "metadata": {
    "vscode": {
     "languageId": "r"
    }
   },
   "outputs": [],
   "source": []
  }
 ],
 "metadata": {
  "kernelspec": {
   "display_name": "R",
   "language": "R",
   "name": "ir"
  },
  "language_info": {
   "codemirror_mode": "r",
   "file_extension": ".r",
   "mimetype": "text/x-r-source",
   "name": "R",
   "pygments_lexer": "r",
   "version": "4.4.2"
  }
 },
 "nbformat": 4,
 "nbformat_minor": 4
}
