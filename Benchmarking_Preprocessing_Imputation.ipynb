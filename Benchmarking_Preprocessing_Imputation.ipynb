{
 "cells": [
  {
   "cell_type": "markdown",
   "metadata": {},
   "source": [
    "## 1. Setup"
   ]
  },
  {
   "cell_type": "code",
   "execution_count": null,
   "metadata": {
    "tags": [],
    "trusted": true,
    "vscode": {
     "languageId": "r"
    }
   },
   "outputs": [
    {
     "name": "stderr",
     "output_type": "stream",
     "text": [
      "Installing package into ‘/usr/local/lib/R/site-library’\n",
      "(as ‘lib’ is unspecified)\n",
      "\n",
      "Installing package into ‘/usr/local/lib/R/site-library’\n",
      "(as ‘lib’ is unspecified)\n",
      "\n",
      "also installing the dependencies ‘Deriv’, ‘modelr’, ‘microbenchmark’, ‘bit’, ‘doBy’, ‘minqa’, ‘nloptr’, ‘bit64’, ‘carData’, ‘Formula’, ‘nnet’, ‘pbkrtest’, ‘lme4’, ‘vroom’, ‘tzdb’, ‘broom’, ‘car’, ‘rootSolve’, ‘lmom’, ‘cellranger’, ‘progress’, ‘forcats’, ‘hms’, ‘readr’, ‘ggrepel’, ‘ggsci’, ‘cowplot’, ‘ggsignif’, ‘polynom’, ‘rstatix’, ‘boot’, ‘expm’, ‘Exact’, ‘gld’, ‘readxl’, ‘haven’, ‘ranger’, ‘FNN’, ‘corrplot’, ‘ggpubr’, ‘DescTools’\n",
      "\n",
      "\n"
     ]
    }
   ],
   "source": [
    "install.packages(\"Rcpp\")\n",
    "install.packages(\"miceRanger\")\n",
    "install.packages(\"dplyr\")\n",
    "install.packages(\"data.table\")\n",
    "install.packages(\"caret\")\n",
    "\n",
    "library(Rcpp)\n",
    "library(miceRanger)\n",
    "library(dplyr)\n",
    "library(data.table)\n",
    "library(caret)\n",
    "\n",
    "set.seed(42)\n",
    "                   "
   ]
  },
  {
   "cell_type": "code",
   "execution_count": null,
   "metadata": {
    "tags": [],
    "trusted": true,
    "vscode": {
     "languageId": "r"
    }
   },
   "outputs": [],
   "source": [
    "#def functions\n",
    "has_multiple_unique_values <- function(column) {\n",
    "  non_na_values <- na.omit(column)\n",
    "  length(unique(non_na_values)) > 1\n",
    "}"
   ]
  },
  {
   "cell_type": "markdown",
   "metadata": {},
   "source": [
    "## 2. Load Data"
   ]
  },
  {
   "cell_type": "code",
   "execution_count": null,
   "metadata": {
    "tags": [],
    "trusted": true,
    "vscode": {
     "languageId": "r"
    }
   },
   "outputs": [],
   "source": [
    "system(\"dx download 'UKBRISK/to_event_Touchscreen_v3.tsv'\")\n",
    "system(\"dx download 'UKBRISK/Metabolites_v1_participant.tsv'\")\n",
    "system(\"dx download 'UKBRISK/Polygenic_risk_score_v1_participant.tsv'\")\n",
    "system(\"dx download 'UKBRISK/Past_medical_history_v2_participant.tsv'\")\n",
    "system(\"dx download 'UKBRISK/Clinical_predictors_preprocessed_v2.tsv'\")\n",
    "\n",
    "\n",
    "endpoints <- read.delim(\"to_event_Touchscreen_v3.tsv\", sep = \"\\t\")\n",
    "endpoint_names <- c(\"AD\", \"CVD\", \"BC\")\n",
    "cat(paste0(\"endpoint information read \\n\"))\n",
    "\n",
    "predictors_list <- list(\n",
    "    metabolomics = read.delim(\"Metabolites_v1_participant.tsv\", sep = \"\\t\"),\n",
    "    prs = read.delim(\"Polygenic_risk_score_v1_participant.tsv\", sep = \"\\t\"),\n",
    "    pmh = read.delim(\"Past_medical_history_v2_participant.tsv\", sep = \"\\t\"),\n",
    "    clinicalrisk = read.delim(\"Clinical_predictors_preprocessed_v2.tsv\", sep = \"\\t\")\n",
    ")\n",
    "\n",
    "for (name in names(predictors_list)) {\n",
    "  file <- predictors_list[[name]]\n",
    "  cat(paste0(name,\" file read, dimenions: rows:\", dim(file)[1], \", cols:\", dim(file)[2], \"\\n\"))\n",
    "}"
   ]
  },
  {
   "cell_type": "markdown",
   "metadata": {},
   "source": [
    "## 3. Reformatting"
   ]
  },
  {
   "cell_type": "code",
   "execution_count": null,
   "metadata": {
    "tags": [],
    "trusted": true,
    "vscode": {
     "languageId": "r"
    }
   },
   "outputs": [],
   "source": [
    "#convert logical columns to character\n",
    "for (name in names(predictors_list)) {\n",
    "  file <- predictors_list[[name]]\n",
    "  logical_cols <- sapply(file, is.logical)\n",
    "  file[logical_cols] <- lapply(file[logical_cols], as.character)\n",
    "  predictors_list[[name]] <- file\n",
    "}"
   ]
  },
  {
   "cell_type": "code",
   "execution_count": null,
   "metadata": {
    "tags": [],
    "trusted": true,
    "vscode": {
     "languageId": "r"
    }
   },
   "outputs": [],
   "source": [
    "#rename cols\n",
    "for (name in names(predictors_list)) {\n",
    "  file <- predictors_list[[name]]\n",
    "  colnames(file) <- c('eid',paste0(name, \"_\", colnames(file[-1])))\n",
    "  predictors_list[[name]] <- file\n",
    "}\n"
   ]
  },
  {
   "cell_type": "code",
   "execution_count": null,
   "metadata": {
    "tags": [],
    "trusted": true,
    "vscode": {
     "languageId": "r"
    }
   },
   "outputs": [],
   "source": [
    "#NAs in baseline pmh = no record\n",
    "predictors_list[[\"pmh\"]][, which(names(predictors_list[[\"pmh\"]]) != \"eid\")] <- \n",
    "  lapply(predictors_list[[\"pmh\"]][, which(names(predictors_list[[\"pmh\"]]) != \"eid\")], function(x) replace(x, is.na(x), FALSE))\n"
   ]
  },
  {
   "cell_type": "markdown",
   "metadata": {},
   "source": [
    "## 5. Exclusion based on missingness"
   ]
  },
  {
   "cell_type": "code",
   "execution_count": null,
   "metadata": {
    "tags": [],
    "trusted": true,
    "vscode": {
     "languageId": "r"
    }
   },
   "outputs": [],
   "source": [
    "#exclude individuals who didn't have assay (e.g. no metabolomics)\n",
    "for (name in names(predictors_list)) {\n",
    "  file <- predictors_list[[name]]\n",
    "  na_percentage_rows <- apply(file[,which(names(file) != \"eid\")], 1, function(x) sum(is.na(x)) / length(x))\n",
    "  file <- file[na_percentage_rows < 1, ]\n",
    "  cat(paste0(name, \": retained n = \", table(na_percentage_rows == 1)[1],\" of \", length(na_percentage_rows), \" individuals due to criteria: missingness < 100% within each individual\", \"\\n\"))\n",
    "  predictors_list[[name]] <- file\n",
    "}\n",
    "\n",
    "#common eids only\n",
    "eids_list <- lapply(predictors_list, function(x) x$eid)\n",
    "common_eids <- Reduce(intersect, eids_list)\n",
    "for (name in names(predictors_list)) {\n",
    "  dataset <- predictors_list[[name]]\n",
    "  predictors_list[[name]] <- dataset[dataset$eid %in% common_eids, ]\n",
    "}"
   ]
  },
  {
   "cell_type": "code",
   "execution_count": null,
   "metadata": {
    "tags": [],
    "trusted": true,
    "vscode": {
     "languageId": "r"
    }
   },
   "outputs": [],
   "source": [
    "#apply variable-wise missingness criteria\n",
    "for (name in names(predictors_list)) {\n",
    "  file <- predictors_list[[name]]\n",
    "  na_percentage_cols <- apply(file, 2, function(x) sum(is.na(x)) / length(x))\n",
    "  file <- file[ ,na_percentage_cols <= 0.2]\n",
    "  predictors_list[[name]] <- file\n",
    "  cat(paste0(name, \"retained n = \", table(na_percentage_cols > 0.2)[1], \" of \", length(na_percentage_cols), \" variables due to criteria: missingness <= 20% within each variable\", \"\\n\"))\n",
    "}\n",
    "\n",
    "#apply individual-wise missingness criteria\n",
    "for (name in names(predictors_list)) {\n",
    "  file <- predictors_list[[name]]\n",
    "  na_percentage_rows_2 <- apply(file[,which(names(file) != \"eid\")], 1, function(x) sum(is.na(x)) / length(x))\n",
    "  file <- file[na_percentage_rows_2 <= 0.2, ]\n",
    "  predictors_list[[name]] <- file\n",
    "  cat(paste0(name, \"retained n = \", table(na_percentage_rows_2 > 0.2)[1], \" of \", length(na_percentage_rows_2), \" individuals due to criteria: missingness <= 20% within each individual\", \"\\n\"))\n",
    "}"
   ]
  },
  {
   "cell_type": "code",
   "execution_count": null,
   "metadata": {
    "tags": [],
    "trusted": true,
    "vscode": {
     "languageId": "r"
    }
   },
   "outputs": [],
   "source": [
    "#common eids only\n",
    "eids_list <- lapply(predictors_list, function(x) x$eid)\n",
    "common_eids <- Reduce(intersect, eids_list)\n",
    "for (name in names(predictors_list)) {\n",
    "  dataset <- predictors_list[[name]]\n",
    "  predictors_list[[name]] <- dataset[dataset$eid %in% common_eids, ]\n",
    "}"
   ]
  },
  {
   "cell_type": "markdown",
   "metadata": {},
   "source": [
    "## 5. Test-Train splitting, Imputation & Saving"
   ]
  },
  {
   "cell_type": "code",
   "execution_count": null,
   "metadata": {
    "tags": [],
    "trusted": true,
    "vscode": {
     "languageId": "r"
    }
   },
   "outputs": [],
   "source": [
    "set.seed(42)\n",
    "\n",
    "n_splits <- 5\n",
    "\n",
    "cv_splits <- sample(rep(1:n_splits, length.out = length(common_eids)))\n",
    "split_info <- data.frame(eid = common_eids, cv_split = cv_splits)"
   ]
  },
  {
   "cell_type": "code",
   "execution_count": null,
   "metadata": {
    "tags": [],
    "trusted": true,
    "vscode": {
     "languageId": "r"
    }
   },
   "outputs": [
    {
     "name": "stdout",
     "output_type": "stream",
     "text": [
      "Saved split info to: cv_split_1.csv \n",
      "For metabolomics: retained n=169 columns, excluded n=0 columns\n",
      "For prs: retained n=18 columns, excluded n=0 columns\n",
      "For pmh: retained n=435 columns, excluded n=0 columns\n",
      "For clinicalrisk: retained n=46 columns, excluded n=0 columns\n"
     ]
    },
    {
     "name": "stderr",
     "output_type": "stream",
     "text": [
      "One or more of the specified variables to impute contains no missing values. These will remain as a predictor, however they will not be imputed. \n",
      "\n",
      "Converting characters to factors.\n",
      "\n"
     ]
    }
   ],
   "source": [
    "#process each CV split\n",
    "for (cv in seq_len(n_splits)) {\n",
    "  \n",
    "  predictors_list_copy <- predictors_list\n",
    "\n",
    "  #identify/save test/train\n",
    "  eidstest <- split_info$eid[split_info$cv_split == cv]\n",
    "  eidstrain <- setdiff(common_eids, eidstest)\n",
    "  split_filename <- paste0(\"cv_split_\", cv, \".csv\")\n",
    "  write.csv(data.frame(eid = common_eids,\n",
    "                       train_test_split = ifelse(common_eids %in% eidstrain, \"train\", \"test\"),\n",
    "                       cv_split = split_info$cv_split),\n",
    "            split_filename, row.names = FALSE)\n",
    "  \n",
    "  cat(\"Saved split info to:\", split_filename, \"\\n\")\n",
    "  \n",
    "  #filter for cols with multiple unique values in the train set\n",
    "  for (name in names(predictors_list_copy)) {\n",
    "    file <- predictors_list_copy[[name]]\n",
    "    before <- ncol(file)\n",
    "    file <- file[, sapply(file[file$eid %in% eidstrain, ], has_multiple_unique_values)]\n",
    "    predictors_list_copy[[name]] <- file\n",
    "    after <- ncol(file)\n",
    "    excluded <- before - after\n",
    "    cat(paste0(\"For \", name, \": retained n=\", after, \n",
    "               \" columns, excluded n=\", excluded, \" columns\\n\"))\n",
    "  }\n",
    "  \n",
    "  #impute missing values in train and apply to test\n",
    "  for (name in c(\"clinicalrisk\", \"metabolomics\")) {\n",
    "    file <- predictors_list_copy[[name]]\n",
    "    \n",
    "    all_vars <- setdiff(names(file), \"eid\")\n",
    "    v <- setNames(lapply(all_vars, function(x) setdiff(all_vars, x)), all_vars)\n",
    "    \n",
    "    #train imp model\n",
    "    miceObj <- miceRanger(\n",
    "      file[file$eid %in% eidstrain, ], \n",
    "      m = 1, \n",
    "      returnModels = TRUE,\n",
    "      maxiter = 3,\n",
    "      max.depth = 8,\n",
    "      num.trees = 8,\n",
    "      verbose = TRUE,\n",
    "      vars = v,\n",
    "      save.memory = FALSE)\n",
    "    \n",
    "    #apply imp model\n",
    "    imputed <- impute(file, miceObj, verbose = FALSE)\n",
    "    predictors_list_copy[[name]] <- imputed$imputedData$Dataset_1\n",
    "    \n",
    "    cat(paste0(\"Imputation done for \", name, \" in split \", cv, \"\\n\"))\n",
    "  }\n",
    "\n",
    "  ##generate final df for each CV split\n",
    "  merged_df <- Reduce(function(x, y) merge(x, y, by = \"eid\", all = TRUE), predictors_list_copy)\n",
    "  merged_df <- merge(merged_df, split_info, by = \"eid\", all.x = TRUE)\n",
    "  \n",
    "  #merge with outcomes\n",
    "  status_cols <- grep(paste0(\"_status$\"), names(endpoints), value = TRUE)\n",
    "  followup_cols <- grep(paste0(\"_followup$\"), names(endpoints), value = TRUE)\n",
    "  at_base_cols <- grep(paste0(\"_at_base$\"), names(endpoints), value = TRUE)\n",
    "  \n",
    "  status_cols <- status_cols[status_cols %in% paste0(endpoint_names, \"_status\")]\n",
    "  followup_cols <- followup_cols[followup_cols %in% paste0(endpoint_names, \"_followup\")]\n",
    "  at_base_cols <- at_base_cols[at_base_cols %in% paste0(endpoint_names, \"_at_base\")]\n",
    "                      \n",
    "  outcome_cols <- c(status_cols, followup_cols, at_base_cols, \"eid\")\n",
    "  \n",
    "  outcome_df <- endpoints[, outcome_cols]\n",
    "  merged_df <- merge(merged_df, outcome_df, by = \"eid\", all.x = TRUE)\n",
    "  \n",
    "  #add train/test and cv split columns\n",
    "  merged_df <- merge(merged_df, split_info, by = \"eid\", all.x = TRUE)\n",
    "  merged_df$testtrain <- ifelse(merged_df$eid %in% eidstrain, \"train\", \"test\")\n",
    "  \n",
    "  #save\n",
    "  filename <- paste0(\"imputed_data_split_\", cv, \"_22112024.tsv\")\n",
    "  write.table(merged_df, filename, sep = \"\\t\", row.names = FALSE, quote = FALSE)\n",
    "  upload_cmd <- paste0(\"dx upload \", filename, \" --path Benchmarking/Imputed/\", filename)\n",
    "  system(upload_cmd, intern = TRUE)\n",
    "  \n",
    "  cat(\"Final merged dataframe saved and uploaded for split\", cv, \"\\n\")\n",
    "}\n"
   ]
  },
  {
   "cell_type": "code",
   "execution_count": null,
   "metadata": {
    "vscode": {
     "languageId": "r"
    }
   },
   "outputs": [],
   "source": []
  },
  {
   "cell_type": "code",
   "execution_count": null,
   "metadata": {
    "vscode": {
     "languageId": "r"
    }
   },
   "outputs": [],
   "source": []
  },
  {
   "cell_type": "code",
   "execution_count": null,
   "metadata": {
    "vscode": {
     "languageId": "r"
    }
   },
   "outputs": [],
   "source": []
  },
  {
   "cell_type": "code",
   "execution_count": null,
   "metadata": {
    "vscode": {
     "languageId": "r"
    }
   },
   "outputs": [],
   "source": []
  },
  {
   "cell_type": "code",
   "execution_count": null,
   "metadata": {
    "vscode": {
     "languageId": "r"
    }
   },
   "outputs": [],
   "source": []
  },
  {
   "cell_type": "markdown",
   "metadata": {},
   "source": [
    "## 6. Generate final DF and save"
   ]
  },
  {
   "cell_type": "code",
   "execution_count": null,
   "metadata": {
    "vscode": {
     "languageId": "r"
    }
   },
   "outputs": [],
   "source": []
  },
  {
   "cell_type": "code",
   "execution_count": null,
   "metadata": {
    "vscode": {
     "languageId": "r"
    }
   },
   "outputs": [],
   "source": []
  },
  {
   "cell_type": "markdown",
   "metadata": {},
   "source": [
    "## 7. Check that everything worked"
   ]
  },
  {
   "cell_type": "code",
   "execution_count": 18,
   "metadata": {
    "tags": [],
    "trusted": true,
    "vscode": {
     "languageId": "r"
    }
   },
   "outputs": [
    {
     "name": "stdout",
     "output_type": "stream",
     "text": [
      "[1] \"metabolomics: 0 NA values\"\n",
      "[1] \"prs: 0 NA values\"\n",
      "[1] \"pmh: 0 NA values\"\n",
      "[1] \"ts: 0 NA values\"\n",
      "[1] \"clinicalrisk: 0 NA values\"\n",
      "[1] \"nhc: 0 NA values\"\n",
      "[1] \"qrisk: 0 NA values\"\n",
      "[1] \"prevent: 0 NA values\"\n",
      "[1] \"score: 0 NA values\"\n"
     ]
    }
   ],
   "source": [
    "for (name in names(predictors_list)) {\n",
    "      file <- predictors_list[[name]]\n",
    "      na_count <- sum(is.na(file))\n",
    "      print(paste0(name, \": \", na_count, \" NA values\"))\n",
    "    }"
   ]
  },
  {
   "cell_type": "code",
   "execution_count": 19,
   "metadata": {
    "tags": [],
    "trusted": true,
    "vscode": {
     "languageId": "r"
    }
   },
   "outputs": [
    {
     "data": {
      "text/html": [],
      "text/latex": [],
      "text/markdown": [],
      "text/plain": [
       "character(0)"
      ]
     },
     "metadata": {},
     "output_type": "display_data"
    }
   ],
   "source": [
    "dl_cmd <- paste0(\"dx download 'UKBRISK_Imputed/final/imputed_data_02092024.tsv' --overwrite\")\n",
    "system(dl_cmd, intern = TRUE)\n",
    "impfinal <- read.delim(\"imputed_data_02092024.tsv\", sep = \"\\t\")"
   ]
  },
  {
   "cell_type": "code",
   "execution_count": 21,
   "metadata": {
    "tags": [],
    "trusted": true,
    "vscode": {
     "languageId": "r"
    }
   },
   "outputs": [
    {
     "data": {
      "text/plain": [
       "\n",
       "    FALSE \n",
       "466115256 "
      ]
     },
     "metadata": {},
     "output_type": "display_data"
    },
    {
     "data": {
      "text/html": [],
      "text/latex": [],
      "text/markdown": [],
      "text/plain": [
       "character(0)"
      ]
     },
     "metadata": {},
     "output_type": "display_data"
    }
   ],
   "source": [
    "table(is.na(impfinal))\n",
    "colnames(impfinal)[colSums(is.na(impfinal)) > 0] #only outcome cols - perfect"
   ]
  },
  {
   "cell_type": "code",
   "execution_count": 20,
   "metadata": {
    "tags": [],
    "trusted": true,
    "vscode": {
     "languageId": "r"
    }
   },
   "outputs": [
    {
     "data": {
      "text/html": [
       "<table class=\"dataframe\">\n",
       "<caption>A data.frame: 6 × 1815</caption>\n",
       "<thead>\n",
       "\t<tr><th></th><th scope=col>eid</th><th scope=col>metabolomics_Apolipoprotein.B</th><th scope=col>metabolomics_Apolipoprotein.A1</th><th scope=col>metabolomics_Alanine</th><th scope=col>metabolomics_Glutamine</th><th scope=col>metabolomics_Glycine</th><th scope=col>metabolomics_Histidine</th><th scope=col>metabolomics_Total.Concentration.of.Branched.Chain.Amino.Acids..Leucine...Isoleucine...Valine.</th><th scope=col>metabolomics_Isoleucine</th><th scope=col>metabolomics_Leucine</th><th scope=col>⋯</th><th scope=col>MEL_at_base</th><th scope=col>CRC_at_base</th><th scope=col>PC_at_base</th><th scope=col>BC_at_base</th><th scope=col>PD_at_base</th><th scope=col>OP_at_base</th><th scope=col>CAT_at_base</th><th scope=col>POAG_at_base</th><th scope=col>HT_at_base</th><th scope=col>testtrain</th></tr>\n",
       "\t<tr><th></th><th scope=col>&lt;int&gt;</th><th scope=col>&lt;dbl&gt;</th><th scope=col>&lt;dbl&gt;</th><th scope=col>&lt;dbl&gt;</th><th scope=col>&lt;dbl&gt;</th><th scope=col>&lt;dbl&gt;</th><th scope=col>&lt;dbl&gt;</th><th scope=col>&lt;dbl&gt;</th><th scope=col>&lt;dbl&gt;</th><th scope=col>&lt;dbl&gt;</th><th scope=col>⋯</th><th scope=col>&lt;lgl&gt;</th><th scope=col>&lt;lgl&gt;</th><th scope=col>&lt;lgl&gt;</th><th scope=col>&lt;lgl&gt;</th><th scope=col>&lt;lgl&gt;</th><th scope=col>&lt;lgl&gt;</th><th scope=col>&lt;lgl&gt;</th><th scope=col>&lt;lgl&gt;</th><th scope=col>&lt;lgl&gt;</th><th scope=col>&lt;chr&gt;</th></tr>\n",
       "</thead>\n",
       "<tbody>\n",
       "\t<tr><th scope=row>1</th><td>1000044</td><td>0.76017</td><td>1.0988</td><td>0.25304</td><td>0.46639</td><td>0.172340</td><td>0.051149</td><td>0.30596</td><td>0.051907</td><td>0.085895</td><td>⋯</td><td>FALSE</td><td>FALSE</td><td>FALSE</td><td>FALSE</td><td>FALSE</td><td>FALSE</td><td>FALSE</td><td>FALSE</td><td>FALSE</td><td>train</td></tr>\n",
       "\t<tr><th scope=row>2</th><td>1000083</td><td>0.77423</td><td>1.9638</td><td>0.26335</td><td>0.56426</td><td>0.208240</td><td>0.073546</td><td>0.36820</td><td>0.047598</td><td>0.106190</td><td>⋯</td><td>FALSE</td><td>FALSE</td><td>FALSE</td><td>FALSE</td><td>FALSE</td><td>FALSE</td><td>FALSE</td><td>FALSE</td><td>FALSE</td><td>train</td></tr>\n",
       "\t<tr><th scope=row>3</th><td>1000121</td><td>0.82021</td><td>1.2126</td><td>0.25390</td><td>0.52869</td><td>0.089564</td><td>0.060435</td><td>0.31846</td><td>0.035210</td><td>0.078134</td><td>⋯</td><td>FALSE</td><td>FALSE</td><td>FALSE</td><td>FALSE</td><td>FALSE</td><td>FALSE</td><td>FALSE</td><td>FALSE</td><td>FALSE</td><td>test </td></tr>\n",
       "\t<tr><th scope=row>4</th><td>1000143</td><td>0.85863</td><td>1.4698</td><td>0.37789</td><td>0.59261</td><td>0.099752</td><td>0.070415</td><td>0.42862</td><td>0.061815</td><td>0.118700</td><td>⋯</td><td>FALSE</td><td>FALSE</td><td>FALSE</td><td>FALSE</td><td>FALSE</td><td>FALSE</td><td>FALSE</td><td>FALSE</td><td>FALSE</td><td>test </td></tr>\n",
       "\t<tr><th scope=row>5</th><td>1000150</td><td>0.56660</td><td>1.1732</td><td>0.31397</td><td>0.53431</td><td>0.134140</td><td>0.042231</td><td>0.37507</td><td>0.049463</td><td>0.122360</td><td>⋯</td><td>FALSE</td><td>FALSE</td><td>FALSE</td><td>FALSE</td><td>FALSE</td><td>FALSE</td><td>FALSE</td><td>FALSE</td><td>FALSE</td><td>test </td></tr>\n",
       "\t<tr><th scope=row>6</th><td>1000168</td><td>1.03440</td><td>1.5165</td><td>0.27074</td><td>0.56913</td><td>0.253870</td><td>0.053087</td><td>0.35510</td><td>0.046822</td><td>0.100430</td><td>⋯</td><td>FALSE</td><td>FALSE</td><td>FALSE</td><td>FALSE</td><td>FALSE</td><td>FALSE</td><td>FALSE</td><td>FALSE</td><td>FALSE</td><td>train</td></tr>\n",
       "</tbody>\n",
       "</table>\n"
      ],
      "text/latex": [
       "A data.frame: 6 × 1815\n",
       "\\begin{tabular}{r|lllllllllllllllllllll}\n",
       "  & eid & metabolomics\\_Apolipoprotein.B & metabolomics\\_Apolipoprotein.A1 & metabolomics\\_Alanine & metabolomics\\_Glutamine & metabolomics\\_Glycine & metabolomics\\_Histidine & metabolomics\\_Total.Concentration.of.Branched.Chain.Amino.Acids..Leucine...Isoleucine...Valine. & metabolomics\\_Isoleucine & metabolomics\\_Leucine & ⋯ & MEL\\_at\\_base & CRC\\_at\\_base & PC\\_at\\_base & BC\\_at\\_base & PD\\_at\\_base & OP\\_at\\_base & CAT\\_at\\_base & POAG\\_at\\_base & HT\\_at\\_base & testtrain\\\\\n",
       "  & <int> & <dbl> & <dbl> & <dbl> & <dbl> & <dbl> & <dbl> & <dbl> & <dbl> & <dbl> & ⋯ & <lgl> & <lgl> & <lgl> & <lgl> & <lgl> & <lgl> & <lgl> & <lgl> & <lgl> & <chr>\\\\\n",
       "\\hline\n",
       "\t1 & 1000044 & 0.76017 & 1.0988 & 0.25304 & 0.46639 & 0.172340 & 0.051149 & 0.30596 & 0.051907 & 0.085895 & ⋯ & FALSE & FALSE & FALSE & FALSE & FALSE & FALSE & FALSE & FALSE & FALSE & train\\\\\n",
       "\t2 & 1000083 & 0.77423 & 1.9638 & 0.26335 & 0.56426 & 0.208240 & 0.073546 & 0.36820 & 0.047598 & 0.106190 & ⋯ & FALSE & FALSE & FALSE & FALSE & FALSE & FALSE & FALSE & FALSE & FALSE & train\\\\\n",
       "\t3 & 1000121 & 0.82021 & 1.2126 & 0.25390 & 0.52869 & 0.089564 & 0.060435 & 0.31846 & 0.035210 & 0.078134 & ⋯ & FALSE & FALSE & FALSE & FALSE & FALSE & FALSE & FALSE & FALSE & FALSE & test \\\\\n",
       "\t4 & 1000143 & 0.85863 & 1.4698 & 0.37789 & 0.59261 & 0.099752 & 0.070415 & 0.42862 & 0.061815 & 0.118700 & ⋯ & FALSE & FALSE & FALSE & FALSE & FALSE & FALSE & FALSE & FALSE & FALSE & test \\\\\n",
       "\t5 & 1000150 & 0.56660 & 1.1732 & 0.31397 & 0.53431 & 0.134140 & 0.042231 & 0.37507 & 0.049463 & 0.122360 & ⋯ & FALSE & FALSE & FALSE & FALSE & FALSE & FALSE & FALSE & FALSE & FALSE & test \\\\\n",
       "\t6 & 1000168 & 1.03440 & 1.5165 & 0.27074 & 0.56913 & 0.253870 & 0.053087 & 0.35510 & 0.046822 & 0.100430 & ⋯ & FALSE & FALSE & FALSE & FALSE & FALSE & FALSE & FALSE & FALSE & FALSE & train\\\\\n",
       "\\end{tabular}\n"
      ],
      "text/markdown": [
       "\n",
       "A data.frame: 6 × 1815\n",
       "\n",
       "| <!--/--> | eid &lt;int&gt; | metabolomics_Apolipoprotein.B &lt;dbl&gt; | metabolomics_Apolipoprotein.A1 &lt;dbl&gt; | metabolomics_Alanine &lt;dbl&gt; | metabolomics_Glutamine &lt;dbl&gt; | metabolomics_Glycine &lt;dbl&gt; | metabolomics_Histidine &lt;dbl&gt; | metabolomics_Total.Concentration.of.Branched.Chain.Amino.Acids..Leucine...Isoleucine...Valine. &lt;dbl&gt; | metabolomics_Isoleucine &lt;dbl&gt; | metabolomics_Leucine &lt;dbl&gt; | ⋯ ⋯ | MEL_at_base &lt;lgl&gt; | CRC_at_base &lt;lgl&gt; | PC_at_base &lt;lgl&gt; | BC_at_base &lt;lgl&gt; | PD_at_base &lt;lgl&gt; | OP_at_base &lt;lgl&gt; | CAT_at_base &lt;lgl&gt; | POAG_at_base &lt;lgl&gt; | HT_at_base &lt;lgl&gt; | testtrain &lt;chr&gt; |\n",
       "|---|---|---|---|---|---|---|---|---|---|---|---|---|---|---|---|---|---|---|---|---|---|\n",
       "| 1 | 1000044 | 0.76017 | 1.0988 | 0.25304 | 0.46639 | 0.172340 | 0.051149 | 0.30596 | 0.051907 | 0.085895 | ⋯ | FALSE | FALSE | FALSE | FALSE | FALSE | FALSE | FALSE | FALSE | FALSE | train |\n",
       "| 2 | 1000083 | 0.77423 | 1.9638 | 0.26335 | 0.56426 | 0.208240 | 0.073546 | 0.36820 | 0.047598 | 0.106190 | ⋯ | FALSE | FALSE | FALSE | FALSE | FALSE | FALSE | FALSE | FALSE | FALSE | train |\n",
       "| 3 | 1000121 | 0.82021 | 1.2126 | 0.25390 | 0.52869 | 0.089564 | 0.060435 | 0.31846 | 0.035210 | 0.078134 | ⋯ | FALSE | FALSE | FALSE | FALSE | FALSE | FALSE | FALSE | FALSE | FALSE | test  |\n",
       "| 4 | 1000143 | 0.85863 | 1.4698 | 0.37789 | 0.59261 | 0.099752 | 0.070415 | 0.42862 | 0.061815 | 0.118700 | ⋯ | FALSE | FALSE | FALSE | FALSE | FALSE | FALSE | FALSE | FALSE | FALSE | test  |\n",
       "| 5 | 1000150 | 0.56660 | 1.1732 | 0.31397 | 0.53431 | 0.134140 | 0.042231 | 0.37507 | 0.049463 | 0.122360 | ⋯ | FALSE | FALSE | FALSE | FALSE | FALSE | FALSE | FALSE | FALSE | FALSE | test  |\n",
       "| 6 | 1000168 | 1.03440 | 1.5165 | 0.27074 | 0.56913 | 0.253870 | 0.053087 | 0.35510 | 0.046822 | 0.100430 | ⋯ | FALSE | FALSE | FALSE | FALSE | FALSE | FALSE | FALSE | FALSE | FALSE | train |\n",
       "\n"
      ],
      "text/plain": [
       "  eid     metabolomics_Apolipoprotein.B metabolomics_Apolipoprotein.A1\n",
       "1 1000044 0.76017                       1.0988                        \n",
       "2 1000083 0.77423                       1.9638                        \n",
       "3 1000121 0.82021                       1.2126                        \n",
       "4 1000143 0.85863                       1.4698                        \n",
       "5 1000150 0.56660                       1.1732                        \n",
       "6 1000168 1.03440                       1.5165                        \n",
       "  metabolomics_Alanine metabolomics_Glutamine metabolomics_Glycine\n",
       "1 0.25304              0.46639                0.172340            \n",
       "2 0.26335              0.56426                0.208240            \n",
       "3 0.25390              0.52869                0.089564            \n",
       "4 0.37789              0.59261                0.099752            \n",
       "5 0.31397              0.53431                0.134140            \n",
       "6 0.27074              0.56913                0.253870            \n",
       "  metabolomics_Histidine\n",
       "1 0.051149              \n",
       "2 0.073546              \n",
       "3 0.060435              \n",
       "4 0.070415              \n",
       "5 0.042231              \n",
       "6 0.053087              \n",
       "  metabolomics_Total.Concentration.of.Branched.Chain.Amino.Acids..Leucine...Isoleucine...Valine.\n",
       "1 0.30596                                                                                       \n",
       "2 0.36820                                                                                       \n",
       "3 0.31846                                                                                       \n",
       "4 0.42862                                                                                       \n",
       "5 0.37507                                                                                       \n",
       "6 0.35510                                                                                       \n",
       "  metabolomics_Isoleucine metabolomics_Leucine ⋯ MEL_at_base CRC_at_base\n",
       "1 0.051907                0.085895             ⋯ FALSE       FALSE      \n",
       "2 0.047598                0.106190             ⋯ FALSE       FALSE      \n",
       "3 0.035210                0.078134             ⋯ FALSE       FALSE      \n",
       "4 0.061815                0.118700             ⋯ FALSE       FALSE      \n",
       "5 0.049463                0.122360             ⋯ FALSE       FALSE      \n",
       "6 0.046822                0.100430             ⋯ FALSE       FALSE      \n",
       "  PC_at_base BC_at_base PD_at_base OP_at_base CAT_at_base POAG_at_base\n",
       "1 FALSE      FALSE      FALSE      FALSE      FALSE       FALSE       \n",
       "2 FALSE      FALSE      FALSE      FALSE      FALSE       FALSE       \n",
       "3 FALSE      FALSE      FALSE      FALSE      FALSE       FALSE       \n",
       "4 FALSE      FALSE      FALSE      FALSE      FALSE       FALSE       \n",
       "5 FALSE      FALSE      FALSE      FALSE      FALSE       FALSE       \n",
       "6 FALSE      FALSE      FALSE      FALSE      FALSE       FALSE       \n",
       "  HT_at_base testtrain\n",
       "1 FALSE      train    \n",
       "2 FALSE      train    \n",
       "3 FALSE      test     \n",
       "4 FALSE      test     \n",
       "5 FALSE      test     \n",
       "6 FALSE      train    "
      ]
     },
     "metadata": {},
     "output_type": "display_data"
    }
   ],
   "source": [
    "head(impfinal)"
   ]
  }
 ],
 "metadata": {
  "kernelspec": {
   "display_name": "R",
   "language": "R",
   "name": "ir"
  },
  "language_info": {
   "codemirror_mode": "r",
   "file_extension": ".r",
   "mimetype": "text/x-r-source",
   "name": "R",
   "pygments_lexer": "r",
   "version": "4.4.2"
  }
 },
 "nbformat": 4,
 "nbformat_minor": 4
}
